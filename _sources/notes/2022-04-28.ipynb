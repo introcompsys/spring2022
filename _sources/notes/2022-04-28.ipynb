{
 "cells": [
  {
   "cell_type": "code",
   "execution_count": 1,
   "id": "fc23245c",
   "metadata": {
    "tags": [
     "remove-input"
    ]
   },
   "outputs": [],
   "source": [
    "from IPython.display import Markdown, display\n",
    "\n",
    "date = '2022-04-28'\n",
    "practice = '../_practice/' + date + '.md'\n",
    "prepare =  '../_prepare/' + date + '.md'"
   ]
  },
  {
   "cell_type": "markdown",
   "id": "e1abcb19",
   "metadata": {},
   "source": [
    "# What do we do next?  \n",
    "\n",
    "\n",
    "## KWL Maintainance\n",
    "\n",
    "\n",
    "\n",
    "- Jupyter book\n",
    "- building and publishing it\n",
    "- taking ownership\n",
    "\n",
    "### Making sure it is a jupyterbook\n",
    "\n",
    "Check that you have:\n",
    "- `_config.yml` best practice is to copy the [defaults](https://jupyterbook.org/en/stable/customize/config.html#configuration-defaults) then change the \"Book settings\" and \"# Launch button settings\" settings as needed.\n",
    "- `_toc.yml` follow the [instructions and example](https://jupyterbook.org/en/stable/structure/toc.html#structure-of-a-book) inthe docs.\n",
    "- make sure that all of your markdown files are in the `_toc.yml`\n",
    "\n",
    "### Rendering and publishing it with GitHub\n",
    "\n",
    "Github Actions allow you to run scripts, both specialized and anythign that you can run in bash on GitHub servers and use those results online.  \n",
    "\n",
    "What we are goign to do is add a file in `.github/workflows/publish.yml`\n",
    "To do run jupyterbook on GIthub's server and  then put the contents of the build directory on the gh-pages branch.\n",
    "\n",
    "\n",
    "```yaml\n",
    "name: deploy-book\n",
    "\n",
    "on:\n",
    "  push:\n",
    "    branches:\n",
    "    - main\n",
    "\n",
    "\n",
    "jobs:\n",
    "  deploy-book:\n",
    "    runs-on: ubuntu-latest\n",
    "    steps:\n",
    "    - uses: actions/checkout@v2\n",
    "\n",
    "    # Install dependencies\n",
    "    - name: Set up Python 3.8\n",
    "      uses: actions/setup-python@v1\n",
    "      with:\n",
    "        python-version: 3.8\n",
    "\n",
    "    - name: Install dependencies\n",
    "      run: |\n",
    "        pip install -r requirements.txt\n",
    "\n",
    "    # Build book\n",
    "    - name: Build the book\n",
    "      run: |\n",
    "        jupyter-book build . --builder pdfhtml\n",
    "        mv _build/pdf/book.pdf _build/html/kwlbook.pdf\n",
    "        jupyter-book build .\n",
    "\n",
    "    # Push the book's html to github-pages\n",
    "    - name: GitHub Pages action\n",
    "      uses: peaceiris/actions-gh-pages@v3.6.1\n",
    "      with:\n",
    "        github_token: ${{ secrets.GITHUB_TOKEN }}\n",
    "        publish_dir: ./_build/html\n",
    "```\n",
    "\n",
    "And then a `requirements.txt` file to the top level directory so that it knows what to install (see above we told it to install from requiremetns.txt)\n",
    "\n",
    "```\n",
    "jupyter-book\n",
    "matplotlib\n",
    "numpy\n",
    "pyppeteer\n",
    "pandas\n",
    "lxml\n",
    "sphinx_fontawesome\n",
    "sphinx_panels\n",
    "```\n",
    "\n",
    "\n",
    "```{note}\n",
    "Later, I'll enable you to to\n",
    "[ turn on pages](https://docs.github.com/en/pages/getting-started-with-github-pages/configuring-a-publishing-source-for-your-github-pages-site) if you would like\n",
    "```\n",
    "\n",
    "### Create an issue for its future\n",
    "\n",
    "Use one of the following as the **title** of the issue.\n",
    "\n",
    "```\n",
    "I want to take ownership of my KWL repo and make it public\n",
    "```\n",
    "\n",
    "```\n",
    "I want to take ownership of my KWL repo for my own reference\n",
    "```\n",
    "\n",
    "```\n",
    "I want my kwl repo archived\n",
    "```\n",
    "\n",
    "## Review\n",
    "\n",
    "What happens in linking?\n",
    "\n",
    "- [ ] code from includes is copied into the file\n",
    "- [ ] binaries for compiled libraries is combined with the compiled program code\n",
    "- [ ] code is translated from assembly to machine code\n",
    "- [ ] code is translated from a high level language to assembly\n",
    "\n",
    "What are three factors that you could use to choose the right langague for a project?\n",
    "\n",
    "_assuming you know or have time and motivation to learn many languages_\n",
    "\n",
    "\n",
    "What is the relationship between a half adder and a full adder?\n",
    "\n",
    "- [ ] a half adder adds half of the bits in the register and the full adds all\n",
    "- [ ] a half adder adds two one bit numbers into a two bit number; a full adder adds two one bit numbers and a carry bit into a one bit output and a carry bit\n",
    "- [ ] a half adder adds two one bit numbers into 1 bit; a full adder adds two one bit nubmers into two bits\n",
    "\n",
    "## Final Comments\n",
    "\n",
    "\n",
    "- this [course site](https://introcompsys.github.io/spring2022/) will remain available to you as a reference\n",
    "- Future sections will be separate sites, all will be listed [on this main site](https://introcompsys.github.io/)\n",
    "- All students are responsible for [the prepare](https://introcompsys.github.io/spring2022/activities/prepare.html) activities and reflections\n",
    "- all re responsible for the [minimum set of rows](https://introcompsys.github.io/spring2022/activities/kwl.html#minimum-rows) in your KWL chart\n",
    "- [more practice](https://introcompsys.github.io/spring2022/activities/practice.html) grouped by class session\n",
    "- **May 2** is the last day to change your grading contract\n",
    "- **May 5** is the last day to submit work that you can revise\n",
    "- **May 10** AOE[^aoe] is the last day to submit work\n",
    "- [extra office hours](https://calendar.google.com/calendar/u/0/embed?src=c_cdqkelouqa82ckeipig58au0es@group.calendar.google.com&ctz=America/New_York) go until May 10.\n",
    "\n",
    "\n",
    "[^aoe]: Anywhere on Earth time.  \n",
    "\n",
    "## Feedback\n",
    "\n",
    "\n",
    "```{important}\n",
    "If 70% of the class completes the [IDEA survey](https://uri.campuslabs.com/eval-home/direct/6028943) you will **all** get 1(large)-3(small) free mistakes. What this will mean is that,  instead of having you having to find the answer and revise, I will give you the answer as a suggestion and you only have to commit my suggestion to get full credit on it.\n",
    "```\n",
    "\n",
    "\n",
    "\n",
    "## Prepare for future classes\n",
    "````{margin}\n",
    "```{note}\n",
    "The text in () in these sections is an explanation of *why* that task is assigned\n",
    "```\n",
    "````"
   ]
  },
  {
   "cell_type": "code",
   "execution_count": 2,
   "id": "24ac89c6",
   "metadata": {
    "tags": [
     "remove-input"
    ]
   },
   "outputs": [
    {
     "data": {
      "text/markdown": [
       "1. Review the questions from today's class and write a solution guide for any that you got wrong with notes about what confused you in `review.md`  (to make sure you do not leave with misconceptions)\n",
       "1. Add `conclusion.md` to your KWL repo.  In the file include 2 sections: **summary** with an overall description of what you learned and how this course was/not helpful to you (paragraph or bullet form is fine) **key points** with the top 10 things you want to make sure you remember from this class (to reinforce these concepts *and* serve as a quick reference for yourself in the future)\n"
      ],
      "text/plain": [
       "<IPython.core.display.Markdown object>"
      ]
     },
     "metadata": {},
     "output_type": "display_data"
    }
   ],
   "source": [
    "display(Markdown(prepare))"
   ]
  },
  {
   "cell_type": "markdown",
   "id": "c60c4087",
   "metadata": {},
   "source": [
    "## More Practice\n",
    "\n",
    "````{margin}\n",
    "```{admonition} Try it Yourself\n",
    "\n",
    "```\n",
    "````"
   ]
  },
  {
   "cell_type": "code",
   "execution_count": 3,
   "id": "ef6487cc",
   "metadata": {
    "tags": [
     "remove-input"
    ]
   },
   "outputs": [
    {
     "data": {
      "text/markdown": [
       "1. In `surprisingfacts.md` explain *why* each of the following and one additional fact of your own is true. For each fact, include a demo showing that it happens.\n",
       "    ```\n",
       "    1. rename and move use the same command in bash\n",
       "    1. `git revert` adds a commit\n",
       "    1. adding to a large number can result in a negative number\n",
       "    1. the following would most likelycause an endless loop `while not(i==.3)`\n",
       "    1. A program without any inputs or randomization in it can give different results each time it is run\n",
       "    ```\n",
       "1. For two imaginary projects, compare compare and contrast different programming languages and git workflows. Choose the two projects so that the best language and best workflow will be different choices. Include a description of each project, your comparisons, and conclusions in `projectplanning.md`\n"
      ],
      "text/plain": [
       "<IPython.core.display.Markdown object>"
      ]
     },
     "metadata": {},
     "output_type": "display_data"
    }
   ],
   "source": [
    "display(Markdown(practice))"
   ]
  }
 ],
 "metadata": {
  "jupytext": {
   "text_representation": {
    "extension": ".md",
    "format_name": "myst",
    "format_version": 0.13,
    "jupytext_version": "1.10.3"
   }
  },
  "kernelspec": {
   "display_name": "Python 3",
   "language": "python",
   "name": "python3"
  },
  "language_info": {
   "codemirror_mode": {
    "name": "ipython",
    "version": 3
   },
   "file_extension": ".py",
   "mimetype": "text/x-python",
   "name": "python",
   "nbconvert_exporter": "python",
   "pygments_lexer": "ipython3",
   "version": "3.8.12"
  },
  "source_map": [
   15,
   23,
   179,
   183,
   196
  ]
 },
 "nbformat": 4,
 "nbformat_minor": 5
}