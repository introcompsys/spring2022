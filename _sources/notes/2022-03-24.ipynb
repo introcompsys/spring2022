{
 "cells": [
  {
   "cell_type": "markdown",
   "id": "73d184dc",
   "metadata": {},
   "source": [
    "# What is an IDE"
   ]
  },
  {
   "cell_type": "code",
   "execution_count": 1,
   "id": "b7c4d138",
   "metadata": {
    "tags": [
     "remove-input"
    ]
   },
   "outputs": [],
   "source": [
    "from IPython.display import Markdown, display\n",
    "\n",
    "date = '2022-03-24'\n",
    "practice = '../_practice/' + date + '.md'\n",
    "prepare =  '../_prepare/' + date + '.md'"
   ]
  },
  {
   "cell_type": "markdown",
   "id": "0004c53c",
   "metadata": {},
   "source": [
    "[read about IDEs](https://www.redhat.com/en/topics/middleware/what-is-ide)\n",
    "\n",
    "\n",
    "\n",
    "[compare IDEs](https://en.wikipedia.org/wiki/Comparison_of_integrated_development_environments)\n",
    "\n",
    "\n",
    "\n",
    "[most popular IDEs](https://insights.stackoverflow.com/survey/2021#section-most-popular-technologies-integrated-development-environment)\n",
    "\n",
    "(class16prep)=\n",
    "## Prepare for next class\n",
    "````{margin}\n",
    "```{note}\n",
    "The text in () in these sections is an explanation of *why* that task is assigned\n",
    "```\n",
    "````"
   ]
  },
  {
   "cell_type": "code",
   "execution_count": 2,
   "id": "e709abf1",
   "metadata": {
    "tags": [
     "remove-input"
    ]
   },
   "outputs": [
    {
     "data": {
      "text/markdown": [
       "1. Explore the IDE you use most and add `ide.md` to your kwl with notes about which features it does/not have.  (to review/reinforce)\n",
       "1. **priority** Make a table comparing two programming languages you know in `languages.md`. The table should have 3 columns: one titled \"Attributes\" and one for each languages. Add one row for each attribute and fill in how that is for each language. Use the following list of attributes and add 1-3 more.\n",
       "    ```\n",
       "    create a list\n",
       "    loop (with predetermined number of iterations)\n",
       "    loop (until a condition is met)\n",
       "    conditional\n",
       "    create a string variable\n",
       "    cast from one type to another\n",
       "    ```\n",
       "1. [read about the parts of the developer survey about languages](https://insights.stackoverflow.com/survey/2021#technology)\n"
      ],
      "text/plain": [
       "<IPython.core.display.Markdown object>"
      ]
     },
     "metadata": {},
     "output_type": "display_data"
    }
   ],
   "source": [
    "display(Markdown(prepare))"
   ]
  },
  {
   "cell_type": "markdown",
   "id": "f39d2472",
   "metadata": {},
   "source": [
    "(class16practice)=\n",
    "## More Practice"
   ]
  },
  {
   "cell_type": "code",
   "execution_count": 3,
   "id": "8bcd80b0",
   "metadata": {
    "tags": [
     "remove-input"
    ]
   },
   "outputs": [
    {
     "data": {
      "text/markdown": [
       "1. (priority) Compare at least 3 IDEs for working in a single language. Create `favoriteide.md` and include your most important criteria with their rankings, how each IDE meets/does not meet those criteria, and a conclusion of which IDE is the best based on your criteria.\n"
      ],
      "text/plain": [
       "<IPython.core.display.Markdown object>"
      ]
     },
     "metadata": {},
     "output_type": "display_data"
    }
   ],
   "source": [
    "display(Markdown(practice))"
   ]
  }
 ],
 "metadata": {
  "jupytext": {
   "text_representation": {
    "extension": ".md",
    "format_name": "myst",
    "format_version": 0.13,
    "jupytext_version": "1.10.3"
   }
  },
  "kernelspec": {
   "display_name": "Python 3",
   "language": "python",
   "name": "python3"
  },
  "language_info": {
   "codemirror_mode": {
    "name": "ipython",
    "version": 3
   },
   "file_extension": ".py",
   "mimetype": "text/x-python",
   "name": "python",
   "nbconvert_exporter": "python",
   "pygments_lexer": "ipython3",
   "version": "3.8.12"
  },
  "source_map": [
   12,
   18,
   26,
   47,
   51,
   60
  ]
 },
 "nbformat": 4,
 "nbformat_minor": 5
}