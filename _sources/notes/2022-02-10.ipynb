{
 "cells": [
  {
   "cell_type": "code",
   "execution_count": 1,
   "id": "6e1cc2cf",
   "metadata": {
    "tags": [
     "remove-input"
    ]
   },
   "outputs": [],
   "source": [
    "from IPython.display import Markdown, display"
   ]
  },
  {
   "cell_type": "markdown",
   "id": "a12d251f",
   "metadata": {},
   "source": [
    "# Survey of Hardware\n",
    "\n",
    "\n",
    "## Where does assembly come from?\n",
    "\n",
    "In order to watch what happens in hardware when a program runs, which is our goal today, we will execute a compiled program. It is written in assembly code.  Typically, we do not write assembly, but instead it is produced by the compiler.  \n",
    "\n",
    "Technically assembly instructions and the values we operate on are represented in binary on hardware, but these more readable level instructions, though basic, are a useful abstraction.  These instructions are also hardware nonspecific.  \n",
    "\n",
    "\n",
    "## Using the simulator\n",
    "\n",
    "On MacOS:\n",
    "\n",
    "```bash\n",
    "cd path/nand2tetris/tools\n",
    "bash CPUEmulator.sh\n",
    "```\n",
    "\n",
    "On Windows:\n",
    "Double click on the CPUEmulator.bat file\n",
    "\n",
    "\n",
    "We're going to use the test cases from the book's project 5:\n",
    "\n",
    "1. Load Program\n",
    "1. Navigate to nand2tetris/projects/05\n",
    "\n",
    "We're not going to *do* project 5, which is to build a CPU, but instead to use the test.\n",
    "\n",
    "For more on how the emulator works see the [CPU Emulator Tutorial](https://www.nand2tetris.org/_files/ugd/44046b_24b3a15aa628404fbf6dacd86d7da3af.pdf).\n",
    "\n",
    "For much more detail about how this all works [chapter 4](https://www.nand2tetris.org/_files/ugd/44046b_d70026d8c1424487a451eaba3e372132.pdf) of the related text book has description of the machine code and assembly language.\n",
    "\n",
    "\n",
    "\n",
    "## Adding Constants\n",
    "\n",
    "We'll use add.hack first.  \n",
    "\n",
    "This program adds constants, 2+3.  \n",
    "\n",
    "It is a program, assembly code that we are loading to the simulator's ROM, which is memory that gets read only by the CPU.  \n",
    "\n",
    "Run the simulator and watch what each line of the program does.  \n",
    "\n",
    "Notice the following:\n",
    "- to compute with a constant, that number only exists in ROM in the instructions\n",
    "- to write a value to memory the address register first has to be pointed to what where in the memory the value will go, then the value can be sent there\n",
    "\n",
    "\n",
    "```{admonition} Try it yourself\n",
    "\n",
    "Write code in a high level language that would compile into this program. Try writing two different variations.\n",
    "```\n",
    "\n",
    "\n",
    "```python\n",
    "\n",
    "for itme in list:\n",
    "\n",
    "```\n",
    "\n",
    "\n",
    "## Using a variable\n",
    "\n",
    "Next use the max.hack.  \n",
    "\n",
    "This one compares the values at two memory locations. In order to use it, you have to write values to the RAM 0 and RAM 1 manually.  \n",
    "\n",
    "It first takes the value from each location and passes the first value to D, then uses the ALU to assign the difference between the two values to D. Then, if the value is greater than 0, it jumps to line to line 10 in the ROM (of the instructions). Line 10, sets A to 0 and 11 sets D to the value from RAM 0. If, instead, the value is less than 0, A is set 1, then and D is set to that value. Then the program points A to 2 and writes the value from D there.\n",
    "\n",
    "\n",
    "\n",
    "```{admonition} Try it yourself\n",
    "\n",
    "Write code in a high level language that would compile into this program. Try writing multiple different versions.\n",
    "\n",
    "What does this program assume has happened that it doesn't include in its body.\n",
    "```\n",
    "\n",
    "\n",
    "## Using output\n",
    "\n",
    "The rect.hack program writes to output, by using a specific memory location that is connected to the output.\n",
    "\n",
    "```{admonition} Try it yourself\n",
    "Try working through this program using the tools to understand what it does\n",
    "```\n",
    "\n",
    "(class7prep)=\n",
    "## Prepare for Next Class"
   ]
  },
  {
   "cell_type": "code",
   "execution_count": 2,
   "id": "144c823e",
   "metadata": {
    "tags": [
     "remove-input"
    ]
   },
   "outputs": [
    {
     "data": {
      "text/markdown": [
       "1. Read these notes and practice with the hardware simulator, try to understand its assembly and walk through what other steps happen.  Make notes on what you want to remember most or had the most trouble with in `hardwaresurvey.md`\n",
       "1. Review and update your listing of how data moves through a program in your `abstraction.md`.  Answer reflection questions below.\n",
       "1. Review the commit history and git blame of a repo in browser- what must be in the .git directory for GitHub to render all of that information? (be prepared to discuss this in class)\n",
       "1. Fill in the Know and Want to know columns for the new KWL chart rows below.\n",
       "1. Begin your [grading contract](https://classroom.github.com/a/qBKaxi-z), bring questions to class Tuesday.\n"
      ],
      "text/plain": [
       "<IPython.core.display.Markdown object>"
      ]
     },
     "metadata": {},
     "output_type": "display_data"
    }
   ],
   "source": [
    "display(Markdown('../_prepare/2022-02-10.md'))"
   ]
  },
  {
   "cell_type": "markdown",
   "id": "d4720439",
   "metadata": {},
   "source": [
    "### Abstraction reflection\n",
    "\n",
    "```\n",
    "1. Did you initially get stuck anywhere?\n",
    "1. How does what we saw with the hardware simulators differ from how you had thought about it before?\n",
    "1. Are there cases where what you previously thought was functional for what you were doing but not totally correct? Describe them.\n",
    "```\n",
    "\n",
    "\n",
    "### New KWL chart rows\n",
    "\n",
    "```\n",
    "|file system | _ | _ |_ |\n",
    "|bash | _ | _ | _ |\n",
    "|abstraction | _ | _ | _ |\n",
    "|programming languages | _ | _ | _ |\n",
    "```\n",
    "\n",
    "\n",
    "\n",
    "## More Practice"
   ]
  },
  {
   "cell_type": "code",
   "execution_count": 3,
   "id": "4880506d",
   "metadata": {
    "tags": [
     "remove-input"
    ]
   },
   "outputs": [
    {
     "data": {
      "text/markdown": [
       "1. Complete the `Try it Yourself` blocks above in your `hardwaresurvey.md`.\n",
       "1. Expand on your update to `abstraction.md`: Can you reconcile different ways you have seen memory before?\n"
      ],
      "text/plain": [
       "<IPython.core.display.Markdown object>"
      ]
     },
     "metadata": {},
     "output_type": "display_data"
    }
   ],
   "source": [
    "display(Markdown('../_practice/2022-02-10.md'))"
   ]
  },
  {
   "cell_type": "markdown",
   "id": "7e8d17f5",
   "metadata": {},
   "source": [
    "## Questions After Class\n",
    "\n",
    "\n",
    "### Is assembly then converted to binary and if so, why isn't the code translated straight to binary instead of from code to assembly to binary?\n",
    "```{toggle}\n",
    "Yes, assembly is converted to binary in order to write it to the hardware.  The Emulator that we used today showed the numbers in RAM and the instructions both in higher level representations than binary.  The advantage to assembly is that it is hardware independent and human readable. It is low level and limited to what the hardware *can* do, but it is a version of that that can be run on different hardware.\n",
    "```\n",
    "\n",
    "### What does A mean in CPU Emulator?\n",
    "\n",
    "\n",
    "### When the prepare for next class says things like \"organize your thoughts on ...\" is it expected that we make a .md file somewhere on GitHub to show this work?\n",
    "```{toggle}\n",
    "For things I expect to review, the instructions will tell you where it goes.  Other things, we will bring up in a future class, so you should have it handy, but you can put it in a repo or a private set of notes.\n",
    "```"
   ]
  }
 ],
 "metadata": {
  "jupytext": {
   "text_representation": {
    "extension": ".md",
    "format_name": "myst",
    "format_version": 0.13,
    "jupytext_version": "1.10.3"
   }
  },
  "kernelspec": {
   "display_name": "Python 3",
   "language": "python",
   "name": "python3"
  },
  "language_info": {
   "codemirror_mode": {
    "name": "ipython",
    "version": 3
   },
   "file_extension": ".py",
   "mimetype": "text/x-python",
   "name": "python",
   "nbconvert_exporter": "python",
   "pygments_lexer": "ipython3",
   "version": "3.8.12"
  },
  "source_map": [
   15,
   19,
   114,
   117,
   143,
   146
  ]
 },
 "nbformat": 4,
 "nbformat_minor": 5
}