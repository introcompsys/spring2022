{
 "cells": [
  {
   "cell_type": "markdown",
   "id": "202f5202",
   "metadata": {},
   "source": [
    "# How does this all come together?"
   ]
  },
  {
   "cell_type": "code",
   "execution_count": 1,
   "id": "23ee94b0",
   "metadata": {
    "tags": [
     "remove-input"
    ]
   },
   "outputs": [],
   "source": [
    "from IPython.display import Markdown, display\n",
    "\n",
    "date = '2022-04-26'\n",
    "practice = '../_practice/' + date + '.md'\n",
    "prepare =  '../_prepare/' + date + '.md'"
   ]
  },
  {
   "cell_type": "markdown",
   "id": "a50f97fa",
   "metadata": {},
   "source": [
    "## Logistics and Grading\n",
    "\n",
    "- I'm a little behind on feedback, will catch up\n",
    "- [Extra Office Hours](https://calendar.google.com/calendar/u/0/embed?src=c_cdqkelouqa82ckeipig58au0es@group.calendar.google.com&ctz=America/New_York)\n",
    "- Zoom link is on slack to keep it private\n",
    "- To be able to revise, work must be submitted by **May 5 at 4pm**. Feedback will be by afternoon May 6.\n",
    "- All final work must be submitted by **May 10**  I will do final grading on May 11.\n",
    "\n",
    "\n",
    "## Contract Checkin\n",
    "\n",
    "\n",
    "Create an issue on your grading contract repo using the following as a template.\n",
    "\n",
    "Edit so that it applies to you, including deleting any sections that do not apply to you and assign or tag @brownsarahm on the issue so that I can get to it easily.\n",
    "```\n",
    "I am (not) on track to complete my contract as agreed.\n",
    "\n",
    "\n",
    "I plan to (catch up/ revise my contract / take an incomplete).\n",
    "\n",
    "To revise my contract I will:\n",
    "<!-- consultaiton is optional -->\n",
    "- [ ] attend office hours to discuss options\n",
    "- [ ] submit the revised contract as PR by the contract revision deadeline of May 2.\n",
    "\n",
    "\n",
    "To catch up, I will:\n",
    "- [ ] tag @brownsarahm in all of my open PRs by 5pm today\n",
    "- [ ] attend office hour on (dates)\n",
    "- [ ] complete (items) by Thursday at 5pm\n",
    "- [ ] complete (items) by May 3rd at 5pm\n",
    "- [ ] complete (items) by May 5 at 4pm\n",
    "- [ ] complete (items) by May 10\n",
    "\n",
    "To complete work after accepting an Incomplete grade I will:\n",
    "- [ ] complete all activities in my contract by (date)\n",
    "\n",
    "I have the following questions about my grade/grading in this course:\n",
    "\n",
    "- [ ] q1\n",
    "- [ ] q2\n",
    "```\n",
    "\n",
    "\n",
    "```{important}\n",
    "The last date to change your contract is May 2\n",
    "```\n",
    "\n",
    "\n",
    "```{important}\n",
    "If you do not complete your contract, you will get an incomplete which will be changed when you complete work or you will get a low grade (eg no work/D/F) at the deadline for me to change the incomplete\n",
    "```\n",
    "\n",
    "## Testing Integration manager workflow\n",
    "\n",
    "See the [prepare for next class](https://introcompsys.github.io/spring2022/notes/2022-04-21.html#prepare-for-next-class) number 1.\n",
    "\n",
    "<i class=\"fa-solid fa-circle-question\"></i> Why are merge conflicts expected here?\n",
    "\n",
    "\n",
    "1. Resolve the merge conflicts\n",
    "1. combine work with your partner on a fork\n",
    "1. make PR to main sites\n",
    "1. I will be merging and then tag you when you should resovle the merge conflicton your PR\n",
    "\n",
    "\n",
    "```{important}\n",
    "Merge conflicts **will** happen.  Knowing how to fix them is **very** important. I want you to get practice with it.\n",
    "```\n",
    "\n",
    "## End of Semester Wrap up\n",
    "\n",
    "Instead of introducing new big ideas this week, we will reivew and work on tying ideas together.\n",
    "\n",
    "```{note}\n",
    "Answers for all of these questions exist in this site\n",
    "```\n",
    "\n",
    "What does threading do?\n",
    "\n",
    "- [ ] divide a program into multiple processes\n",
    "- [ ] divides a task across multiple computes\n",
    "- [ ] divide a process into mutlple parts that are completed separately\n",
    "\n",
    "\n",
    "\n",
    "\n",
    "Why do we need to lock writing to a global variable when threading a program?\n",
    "\n",
    "- [ ] otherwise all threads will overwrite incorrectly and only the slowest one will be saved\n",
    "- [ ] otherwise their start/finish order can impact the calculation\n",
    "- [ ] it is the only way for a variable to be shared across threads\n",
    "\n",
    "\n",
    "\n",
    "What is git? *multiple may apply**\n",
    "\n",
    "A. a file system\n",
    "B. backup software  \n",
    "C. a version control system\n",
    "D. a cloud protocol for collaborating on code\n",
    "\n",
    "\n",
    "\n",
    "Why do we use version control?\n",
    "\n",
    "- [ ] to have a cloud backup of code\n",
    "- [ ] it's a legacy tool for undoing changes before IDEs could do it\n",
    "- [ ] to be able to separate different versions of code\n",
    "\n",
    "\n",
    "\n",
    "\n",
    "Why floating point instead of fixed point for fractions ?\n",
    "\n",
    "- [ ] floating point allows for faster calculations\n",
    "- [ ] floating point allows more precise representation\n",
    "- [ ] floating point allows for representation of a broader range of values\n",
    "\n",
    "\n",
    "Label and put in order the following steps of building C code: (replace `x` with a number and `step` with the name of that step)\n",
    "\n",
    "```\n",
    "\n",
    "x. **step** binaries for compiled libraries is combined with the compiled program code\n",
    "x. **step** code is translated from assembly to machine code\n",
    "x. **step** code from includes is copied into the file\n",
    "x. **step** code is translated from a high level language to assembly\n",
    "```\n",
    "\n",
    "\n",
    "(class25prep)=\n",
    "## Prepare for next class\n",
    "\n",
    "````{margin}\n",
    "```{note}\n",
    "The text in () in these sections is an explanation of *why* that task is assigned\n",
    "```\n",
    "````"
   ]
  },
  {
   "cell_type": "code",
   "execution_count": 2,
   "id": "9b6c8573",
   "metadata": {
    "tags": [
     "remove-input"
    ]
   },
   "outputs": [
    {
     "data": {
      "text/markdown": [
       "1. Review the questions from class today and in `review.md` write a solution and explanation for your confusion for any that you got wrong. If you missed class, write a solution guide for all of the questions in today's notes. (to reinforce concepts and make sure you understand them correctly)\n",
       "1. Update your KWL chart by adding 2-3 rows about topics you learned about that are not listed. (to review all concepts in class)\n",
       "1. Add a new, up to date overview of how you think about computing overallto your KWL repo. Mark the one you made at the beginning as \"overview-pre\" and this one as \"overview-post\" either with heading or the file name (to synthesize ideas)\n",
       "1. Confirm that your jupyterbook works. (we will work with your KWL in class on Thursday)\n",
       "1. Create PRs to the main sites from the last class's prepare for next class task.  (more GitHub practice)\n"
      ],
      "text/plain": [
       "<IPython.core.display.Markdown object>"
      ]
     },
     "metadata": {},
     "output_type": "display_data"
    }
   ],
   "source": [
    "display(Markdown(prepare))"
   ]
  },
  {
   "cell_type": "markdown",
   "id": "8437426b",
   "metadata": {},
   "source": [
    "(class25practice)=\n",
    "## More Practice\n",
    "\n",
    "```{important}\n",
    "- If you're on track, you can skip the following and Thursday's More Practice\n",
    "- if you are not on track: **today's and Thursdays will count for two each, but will be more complex and integrate concepts across multiple class sessions**\n",
    "\n",
    "```"
   ]
  },
  {
   "cell_type": "code",
   "execution_count": 3,
   "id": "b2f47f7d",
   "metadata": {
    "tags": [
     "remove-input"
    ]
   },
   "outputs": [
    {
     "data": {
      "text/markdown": [
       "1. Make a table that compares and contrasts the unix file system to git *as* a file system on at least 5 aspects (eg header + 5 rows) in `filesystem.md`. Based on this, write a definition of a file system generally and how knowing that these are both file systems helps reinforce concepts and improve understanding.\n",
       "1. In `whypointers.md` write a blog-post style argument for why understanding pointers as a concept is important for a computer science student even if they will not work directly in a language that uses pointers.  Consider your audience to be a student who is in CSC212 and struggling. Use two examples from this class where we relied on the concept of pointers to explain how something worked.\n",
       "1. Reflect on how thise course impacts programming/debugging skills in `skillup.md`.  You can write this as how you think your own skill has improved **or** as if you are convincing another student to take this class. Touch on at least three topics.\n"
      ],
      "text/plain": [
       "<IPython.core.display.Markdown object>"
      ]
     },
     "metadata": {},
     "output_type": "display_data"
    }
   ],
   "source": [
    "display(Markdown(practice))"
   ]
  },
  {
   "cell_type": "markdown",
   "id": "61af9eed",
   "metadata": {},
   "source": [
    "## Questions After Class\n",
    "\n",
    "\n",
    "### What is the industry standard between github/gitlab/bitbucket? is there one that is better than the other?\n",
    "```{toggle}\n",
    "Feature-wise they're relatively comparable, they all do core git and provide hosting.  The details of features are somewhat different.  The deciding factor though, usually comes down to price and/or a moral position on GitHub being owned by Microsoft and having US Immigration and Customs Enforcement (ICE) as a customer.\n",
    "```"
   ]
  }
 ],
 "metadata": {
  "jupytext": {
   "text_representation": {
    "extension": ".md",
    "format_name": "myst",
    "format_version": 0.13,
    "jupytext_version": "1.10.3"
   }
  },
  "kernelspec": {
   "display_name": "Python 3",
   "language": "python",
   "name": "python3"
  },
  "language_info": {
   "codemirror_mode": {
    "name": "ipython",
    "version": 3
   },
   "file_extension": ".py",
   "mimetype": "text/x-python",
   "name": "python",
   "nbconvert_exporter": "python",
   "pygments_lexer": "ipython3",
   "version": "3.8.12"
  },
  "source_map": [
   12,
   16,
   24,
   168,
   172,
   186,
   189
  ]
 },
 "nbformat": 4,
 "nbformat_minor": 5
}