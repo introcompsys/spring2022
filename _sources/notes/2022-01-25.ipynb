{
 "cells": [
  {
   "cell_type": "code",
   "execution_count": 1,
   "id": "f5cde73a",
   "metadata": {
    "tags": [
     "remove-input"
    ]
   },
   "outputs": [],
   "source": [
    "from IPython.display import Markdown, display"
   ]
  },
  {
   "cell_type": "markdown",
   "id": "71984679",
   "metadata": {},
   "source": [
    "# Introduction\n",
    "\n",
    "\n",
    "<!-- ## Introductions -->\n",
    "\n",
    "## What is a System?\n",
    "\n",
    "```{tip}\n",
    "You can contribute or fix things on this page (and anywhere else in this site) by clicking on \"suggest an edit\" under the GitHub menu in the top right.\n",
    "```\n",
    "\n",
    "## What are we going to learn? and Editing on GitHub\n",
    "\n",
    "\n",
    "We initialized your [KWL Chart](https://classroom.github.com/a/3ne9UY-R). You will keep this chart up to date over the course of the semester.  Mostly it will be prompted when you should fill it in, but you can add to it whenever you would like.  \n",
    "\n",
    "```{admonition} Further Reading\n",
    "\n",
    "GitHub itself provides pretty good documentation, full of screenshots for things in browser.\n",
    "[editing a file](https://docs.github.com/en/repositories/working-with-files/managing-files/editing-files)\n",
    "[pull request](https://docs.github.com/en/pull-requests/collaborating-with-pull-requests/proposing-changes-to-your-work-with-pull-requests/creating-a-pull-request)\n",
    "```\n",
    "\n",
    "(class2prep)=\n",
    "## For next class\n",
    "\n",
    "\n",
    "```{note}\n",
    "This section will contain more detail, but a short list of what you need will always be in the [schedule](../syllabus/schedule)\n",
    "```"
   ]
  },
  {
   "cell_type": "code",
   "execution_count": 2,
   "id": "85b80b29",
   "metadata": {
    "tags": [
     "remove-input"
    ]
   },
   "outputs": [
    {
     "data": {
      "text/markdown": [
       "\n",
       "- More practice with [GitHub terminology](https://classroom.github.com/a/wHq_HF4g). Accept this assignment, read through it, and follow the instructions at the end.\n",
       "- Review these notes, bring any questions you have to class\n",
       "- Read the syllabus, explore this whole [website](https://introcompsys.github.io/spring2022/). Bring questions about the course. Be prepared for a scavenger hunt that asks you not to recall every fact about the course, but to know where to find informatio.\n",
       "- Think about one thing you've learned really well (computing or not) and how do you know that you know it?  (bring your example)\n"
      ],
      "text/plain": [
       "<IPython.core.display.Markdown object>"
      ]
     },
     "metadata": {},
     "output_type": "display_data"
    }
   ],
   "source": [
    "display(Markdown('../_prepare/2022-01-25.md'))"
   ]
  },
  {
   "cell_type": "markdown",
   "id": "76f7d8ee",
   "metadata": {},
   "source": [
    "## Questions After Class\n",
    "\n",
    "\n",
    "### What physical code will we be writing this semester?\n",
    "```{toggle}\n",
    "Shell scripts, tiny bits of C, small examples of python.  Mostly, we'll be focused on the glue that connects the pieces of a regular code project more than developing  a lot of code. We will not, for example, study any algorithms.\n",
    "\n",
    "```\n",
    "\n",
    "\n",
    "### How would committing, pull requests, branches, etc work if you wanted to work on something on your computer?\n",
    "```{toggle}\n",
    "\n",
    "We will learn how to work with git offline next week. You can use git (and GitHub) via a terminal, specialized desktop applications, or built into many IDEs.\n",
    "```\n",
    "\n",
    "### Why does github seem so simple on a surface level? but to actually use it requires much deeper knowledge...\n",
    "```{toggle}\n",
    "GitHub provides a user friendly wrapper around git, which is an open source version control tool that is designed to be very powerful for and primarily used by, experienced programmers with a good knowledge of files systems.  Git is in fact a special file system. GitHub makes the most common actions easier so that more people can do them, but the underlying tool can do so many things, so it can be complicated.\n",
    "```\n",
    "\n",
    "### Will I be able to view my answers on prismia chat for the future? Will it erase?\n",
    "```{toggle}\n",
    "Yes, the prismia history will always be available.  You can also download the transcript from each class.\n",
    "```\n",
    "\n",
    "### What about the feedback page? How to merge it or not merge it at all?\n",
    "```{toggle}\n",
    "We will specifically advise you on when you should merge the Feedback PR.\n",
    "```"
   ]
  }
 ],
 "metadata": {
  "jupytext": {
   "text_representation": {
    "extension": ".md",
    "format_name": "myst",
    "format_version": 0.13,
    "jupytext_version": "1.10.3"
   }
  },
  "kernelspec": {
   "display_name": "Python 3",
   "language": "python",
   "name": "python3"
  },
  "language_info": {
   "codemirror_mode": {
    "name": "ipython",
    "version": 3
   },
   "file_extension": ".py",
   "mimetype": "text/x-python",
   "name": "python",
   "nbconvert_exporter": "python",
   "pygments_lexer": "ipython3",
   "version": "3.8.12"
  },
  "source_map": [
   15,
   19,
   52,
   55
  ]
 },
 "nbformat": 4,
 "nbformat_minor": 5
}