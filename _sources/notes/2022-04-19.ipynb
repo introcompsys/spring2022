{
 "cells": [
  {
   "cell_type": "code",
   "execution_count": 1,
   "id": "6ffb9ffe",
   "metadata": {
    "tags": [
     "remove-input"
    ]
   },
   "outputs": [],
   "source": [
    "from IPython.display import Markdown, display\n",
    "\n",
    "date = '2022-04-19'\n",
    "practice = '../_practice/' + date + '.md'\n",
    "prepare =  '../_prepare/' + date + '.md'"
   ]
  },
  {
   "cell_type": "markdown",
   "id": "4a4c1bae",
   "metadata": {},
   "source": [
    "# How do clocks impact computing?\n",
    "\n",
    "## Recall our model Computer\n",
    "\n",
    "![von Neumann Architecture](https://upload.wikimedia.org/wikipedia/commons/thumb/e/e5/Von_Neumann_Architecture.svg/2560px-Von_Neumann_Architecture.svg.png)\n",
    "\n",
    "We have talked about the ALU at length and we have touched on memory, but next we will start to focus on the Control unit.\n",
    "\n",
    "We discussed that the operations we need to carry out is mostly\n",
    "\n",
    "\n",
    "## Control Unit\n",
    "\n",
    "The control unit converts binary instructions to signals and timing to direct the other components.\n",
    "\n",
    "\n",
    "\n",
    "###  What signals?\n",
    "\n",
    "We will go to the ALU again since the control unit serves it to figure out what it needs.  \n",
    "Remember in the ALU, has input signals that determine which calculation it will execute based on the input.\n",
    "\n",
    "\n",
    "### Why Timing signals?\n",
    "\n",
    "Again, the ALU itself tells us why we need this, we saw that different calculations the ALU does take different amount of times to propagate through the circuit.\n",
    "\n",
    "Even adding numbers of different numbers that require different number of carries can take different amount of times.\n",
    "\n",
    "So the control unit waits an amount of time, that's longer than the slowest calculation before sending the next instruction.  It also has to wait that long before reading the output of the ALU and sending that result to memory as needed.  \n",
    "\n",
    "## What is a clock?\n",
    "\n",
    "In a computer the clock refers to a clock signal, historically this was called a logic beat. This is represented by a sinusoidal (sine wave) or square (on, off, on, off) signal that operates with a constant frequency.  \n",
    "\n",
    "This has changed a lot over time.  \n",
    "\n",
    "\n",
    "The first mechanical analog computer, the Z1 operated at 1 Hz, or one cycle per second; its most direct successor moved up to 5-10Hz; later there were computers at 100kHz or 100,000Hz, but where one instruction took 20 cycles, so it had an effective rate at 5kHz.\n",
    "\n",
    "```{admonition} Try it Yourself\n",
    "Look up the CPU speed of your computer and your phone. How do they compare.\n",
    "```\n",
    "\n",
    "\n",
    "## Execution Times\n",
    "\n",
    "```\n",
    "time kwlfilecheck\n",
    "```\n",
    "\n",
    "\n",
    "We get three times:\n",
    "\n",
    "- real: wall clock time, the total time that you wait for the the process to execute\n",
    "- user: CPU time in user mode within the the process, the time the CPU spends executing the process itself\n",
    "- sys: CPU time spent in the kernel within the process, the time CPU spends doing operating system interactions associated with the process\n",
    "\n",
    "\n",
    "The real time includes the user time, the system time, and any scheduling or waiting time that that occurs.  \n",
    "\n",
    "\n",
    "\n",
    "\n",
    "\n",
    "(class23prep)=\n",
    "## Prepare for next class\n",
    "\n",
    "````{margin}\n",
    "```{note}\n",
    "The text in () in these sections is an explanation of *why* that task is assigned\n",
    "```\n",
    "````"
   ]
  },
  {
   "cell_type": "code",
   "execution_count": 2,
   "id": "2460d389",
   "metadata": {
    "tags": [
     "remove-input"
    ]
   },
   "outputs": [
    {
     "data": {
      "text/markdown": [
       "1.  Check that your KWL is up to date with all [required rows](kwlmin) and add a section (`##`) below your chart in the same file (either `README` or `chart.md`) that summarizes what you think about computer systems.\n",
       "1. (priorty) Read about [systems vs applications](https://www.geeksforgeeks.org/difference-between-system-software-and-application-software/) programming. Create `systemsprogramming.md` to summarize the difference and what skills would be diffrent. Which do you have more experience with? What experience do you have with the other?  (we will address this in class Thursday)\n"
      ],
      "text/plain": [
       "<IPython.core.display.Markdown object>"
      ]
     },
     "metadata": {},
     "output_type": "display_data"
    }
   ],
   "source": [
    "display(Markdown(prepare))"
   ]
  },
  {
   "cell_type": "markdown",
   "id": "ddfe30ee",
   "metadata": {},
   "source": [
    "(class23practice)=\n",
    "## More Practice"
   ]
  },
  {
   "cell_type": "code",
   "execution_count": 3,
   "id": "1f1b70af",
   "metadata": {
    "tags": [
     "remove-input"
    ]
   },
   "outputs": [
    {
     "data": {
      "text/markdown": [
       "1. (priority) Compare the time of the following operations, investigate what the different operations do/not do, how do the three times compare? and hypothesize explanations in `timing.md`. Which times are constant vs variable? Which vary the most? least? Tip: use a script with loops and [see the options](https://man7.org/linux/man-pages/man1/time.1.html)and write output to a file (to test how these impact your work. *extension idea:* expand the level of detail to include more analysis on this, Try to find operations that increase the user vs system time.   You can use basic bash operations or programs you have from other courses )\n",
       "    ```\n",
       "    1. wget https://github.com/introcompsys/spring2022/blob/main/img/2022-01-27-mental_model_advanced.svg\n",
       "    2. wget https://raw.githubusercontent.com/introcompsys/spring2022/main/img/2022-01-27-mental_model_advanced.svg\n",
       "    3. kwlcheck\n",
       "    4. kwlfilecheck\n",
       "    5. hello world compiled from C\n",
       "    ```\n",
       "1. Practice exploring the list of processes running on your computer and investigate how much resources different things you do on a regular basis use. Make some general observations In `kernelproc.md`.\n"
      ],
      "text/plain": [
       "<IPython.core.display.Markdown object>"
      ]
     },
     "metadata": {},
     "output_type": "display_data"
    }
   ],
   "source": [
    "display(Markdown(practice))"
   ]
  },
  {
   "cell_type": "markdown",
   "id": "fa80765f",
   "metadata": {},
   "source": [
    "## Questions After Class\n",
    "\n",
    "### where are the registers?\n",
    "```{toggle}\n",
    "The registers are a part of the CPU.\n",
    "```\n",
    "\n",
    "\n",
    "### Is there a model of CPU without an ALU?\n",
    "```{toggle}\n",
    "The term CPU specifically refers to combining an ALU with a control unit and registers. Modern CPUs use integrated circuits, so multiple components are etched into silicone instead of having separate components that are, for example, soldered onto a board.\n",
    "```\n",
    "\n",
    "### What is a core\n",
    "```{toggle}\n",
    "A core is an execution unit: a control unit, an ALU, and the necessary registers.  Traditionally a CPU had one core, so the model CPU we saw is the same as a core.  A modern, multi-core CPU has multiple execution units and additional circuitry to coordinate.\n",
    "```\n",
    "\n",
    "### Will we get time in class this week / next week to use as like a workshop to finish things we need to with help from you?\n",
    "```{toggle}\n",
    "This is what office hours are for. I added more office hours, the link to the times are in slack and will be shared in class.\n",
    "\n",
    "Please, please! come to office hours or ask for an additional appointment.\n",
    "```\n",
    "\n",
    "\n",
    "### Why do the different times matter?\n",
    "```{toggle}\n",
    "the different times demonstrate different parts of what has to happen, there is scheduling and waiting; there is the actual executing and there are kernel (OS) steps. \n",
    "```\n",
    "\n",
    "### What are the side effects of overclocking the computer?\n",
    "```{toggle}\n",
    "It gets hotter, so that it causes more stress and strain on the\n",
    "```\n",
    "\n",
    "### Is there a good intro to this stuff online? Or will we go over it in 411?\n",
    "```{toggle}\n",
    "More detail on this will be in 411 and the OS/ process side will be in 412.\n",
    "```\n",
    "\n",
    "### What are the pieces of a kernel and what does it actually do for the computer?\n",
    "```{toggle}\n",
    "The kernel is software, not a physical component.\n",
    "```"
   ]
  }
 ],
 "metadata": {
  "jupytext": {
   "text_representation": {
    "extension": ".md",
    "format_name": "myst",
    "format_version": 0.13,
    "jupytext_version": "1.10.3"
   }
  },
  "kernelspec": {
   "display_name": "Python 3",
   "language": "python",
   "name": "python3"
  },
  "language_info": {
   "codemirror_mode": {
    "name": "ipython",
    "version": 3
   },
   "file_extension": ".py",
   "mimetype": "text/x-python",
   "name": "python",
   "nbconvert_exporter": "python",
   "pygments_lexer": "ipython3",
   "version": "3.8.12"
  },
  "source_map": [
   15,
   23,
   100,
   104,
   113,
   116
  ]
 },
 "nbformat": 4,
 "nbformat_minor": 5
}