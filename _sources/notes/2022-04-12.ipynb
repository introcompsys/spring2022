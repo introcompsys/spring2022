{
 "cells": [
  {
   "cell_type": "markdown",
   "id": "31e9c2d7",
   "metadata": {},
   "source": [
    "# How can we use logical operations?"
   ]
  },
  {
   "cell_type": "code",
   "execution_count": 1,
   "id": "85f733d9",
   "metadata": {
    "tags": [
     "remove-input"
    ]
   },
   "outputs": [],
   "source": [
    "from IPython.display import Markdown, display\n",
    "\n",
    "date = '2022-04-12'\n",
    "practice = '../_practice/' + date + '.md'\n",
    "prepare =  '../_prepare/' + date + '.md'"
   ]
  },
  {
   "cell_type": "markdown",
   "id": "a9668133",
   "metadata": {},
   "source": [
    "## Admin\n",
    "\n",
    "\n",
    "### Grading Contract Updates\n",
    "- You can reduce your more practice days completed by 2.\n",
    "- You can reduce the number of deeper exploration by 1.\n",
    "\n",
    "```{important}\n",
    "Review your grading contract and either submit that PR, or an issue noting if you need another update.\n",
    "```\n",
    "\n",
    "### Deadlines\n",
    "\n",
    "- Things submitted by May 5 you can revise again.\n",
    "- I will hold office hours for your last chance to do final touches during our exam time May 10, 11:30-1:30.\n",
    "- I will do final grading starting May 11 in the afternoon; all work must be submitted by noon May 11 to guarantee grading.\n",
    "- I will post additional office hours and feedback hours during finals week soon.\n",
    "\n",
    "\n",
    "## Review\n",
    "\n",
    "- git revert applies a new commit that does the opposite of the reverted commit. [review](2022-02-22)\n",
    "- A file with permissions 644 is rw-r--r--, so only the owner, not other members of the group, can write to the file. [review](2022-03-08)\n",
    "\n",
    "\n",
    "\n",
    "# Why do we need to think about bitwise operations?  \n",
    "\n",
    "Understanding them is prereq to what we will see today and that will help you understand hardware overall.  \n",
    "\n",
    "You of course will not *need* every single thing we teach you in every single class.  \n",
    "\n",
    "* Seeing topics once at least is the only way you can make an informed decision to study a topic deeper or not.\n",
    "* Seeing a topic in more detail than you will use all the time actually helps you build intuition, or deep understanding, of the topic overall, and help you remember what you need to remember\n",
    "\n",
    "\n",
    "## Bitwise operators\n",
    "\n",
    "- & : and\n",
    "- | : or\n",
    "- ^ : xor\n",
    "- ~ : not\n",
    "- >>: shift right\n",
    "- <<: shift left\n",
    "\n",
    "Let's review truth tables for and, or, and xor.\n",
    "\n",
    "\n",
    "```{list-table} AND\n",
    ":header-rows: 1\n",
    ":name: truth-and\n",
    "\n",
    "* - a\n",
    "  - b\n",
    "  - output\n",
    "* - 0\n",
    "  - 0\n",
    "  - 0\n",
    "* - 0\n",
    "  - 1\n",
    "  - 0\n",
    "* - 1\n",
    "  - 0\n",
    "  - 0\n",
    "* - 1\n",
    "  - 1\n",
    "  - 1\n",
    "```\n",
    "\n",
    "\n",
    "```{list-table} OR\n",
    ":header-rows: 1\n",
    ":name: truth-or\n",
    "\n",
    "* - a\n",
    "  - b\n",
    "  - output\n",
    "* - 0\n",
    "  - 0\n",
    "  - 0\n",
    "* - 0\n",
    "  - 1\n",
    "  - 1\n",
    "* - 1\n",
    "  - 0\n",
    "  - 1\n",
    "* - 1\n",
    "  - 1\n",
    "  - 1\n",
    "```\n",
    "\n",
    "\n",
    "```{list-table} XOR\n",
    ":header-rows: 1\n",
    ":name: truth-xor\n",
    "\n",
    "* - a\n",
    "  - b\n",
    "  - output\n",
    "* - 0\n",
    "  - 0\n",
    "  - 0\n",
    "* - 0\n",
    "  - 1\n",
    "  - 1\n",
    "* - 1\n",
    "  - 0\n",
    "  - 1\n",
    "* - 1\n",
    "  - 1\n",
    "  - 0\n",
    "```\n",
    "\n",
    "In order to implement more complex calculations, using gates, we can use these tables as building blocks compared to the required output.  \n",
    "\n",
    "There are more gate operations; you can see a simulation for [16 gates](https://lodev.org/logicemu/#id=gates16)\n",
    "\n",
    "\n",
    "## Adding with gates\n",
    "\n",
    "Let's review adding binary numbers\n",
    "\n",
    "- add the two bits\n",
    "- carry the next place like in adding multi-digit numbers otherwise\n",
    "\n",
    "$$ 101 + 100 = 1001 $$\n",
    "\n",
    "We first add the ones place and get a 1, then the two's place and get a zero then the 4's place and get 0 with a carried one.  \n",
    "\n",
    "$$ 010 + 011 = 101 $$\n",
    "\n",
    "In this case in the ones place we add 0 + 1 to get one, the two ones add to 0 with carry then 1 + 0 + 0 gives another 1.  \n",
    "\n",
    "\n",
    "let's make a truth table for adding two bits.\n",
    "\n",
    "\n",
    "```{list-table} Add\n",
    ":header-rows: 1\n",
    ":name: truth-add\n",
    "\n",
    "* - a\n",
    "  - b\n",
    "  - out 2's\n",
    "  - out 1's\n",
    "* - 0\n",
    "  - 0\n",
    "  - 0\n",
    "  - 0\n",
    "* - 0\n",
    "  - 1\n",
    "  - 0\n",
    "  - 1\n",
    "* - 1\n",
    "  - 0\n",
    "  - 0\n",
    "  - 1\n",
    "* - 1\n",
    "  - 1\n",
    "  - 1\n",
    "  - 0\n",
    "```\n",
    "\n",
    "Now, what gate can we use to get the output 1's place bit and what gate can we use to get the output 2's place bit by comparing to the truth tables above.\n",
    "\n",
    "It turns out the one's place is an xor gate, and the two's place is an and gate.  \n",
    "\n",
    "This makes up the [half adder, try one out at this simulator](https://lodev.org/logicemu/#id=half_adder).\n",
    "\n",
    "\n",
    "So this lets us as two bits, but what about adding a number with more bits?  \n",
    "\n",
    "We can put multiple together, but there's one more wrinkle: the carry.  \n",
    "\n",
    "That's what makes a [full adder](https://lodev.org/logicemu/#id=full_adder) different.  It adds three single bits, or a carry and two bits and outputs the result as a sum bit and a carry bit.  \n",
    "\n",
    "Then we can link many of those together to get an [8 bit ripple adder](https://lodev.org/logicemu/#id=ripple_carry_adder).  \n",
    "\n",
    "Alternatively, we can \"lookahead\" with the carry bit, passing it forward multiple places all at once, as shown in this [4 bit carry lookahead adder](https://lodev.org/logicemu/#id=cla_adder).\n",
    "\n",
    "## How can we choose between things?  \n",
    "\n",
    "A [mux](https://lodev.org/logicemu/#id=mux) (multiplexer) is a component (like a gate is a component) that allows us to select one operation out of a circuit.\n",
    "\n",
    "\n",
    "\n",
    "\n",
    "(class21prep)=\n",
    "## Prepare for next class\n",
    "````{margin}\n",
    "```{note}\n",
    "The text in () in these sections is an explanation of *why* that task is assigned\n",
    "```\n",
    "````"
   ]
  },
  {
   "cell_type": "code",
   "execution_count": 2,
   "id": "3793d972",
   "metadata": {
    "tags": [
     "remove-input"
    ]
   },
   "outputs": [
    {
     "data": {
      "text/markdown": [
       "1. Compare the 2 bit multiplier to the full adder in `multiplication.md`. Use that to explain how it works, relative to the fact that multiplication can be thought of like repeated addition.\n",
       "1. Study the [8 bit ALU](https://lodev.org/logicemu/#id=alu). Try it out and be prepared to answer questions about how it works on Thursday.\n",
       "1. Read [gates out of anything](https://hackaday.com/2017/01/03/make-logic-gates-out-of-almost-anything/)\n"
      ],
      "text/plain": [
       "<IPython.core.display.Markdown object>"
      ]
     },
     "metadata": {},
     "output_type": "display_data"
    }
   ],
   "source": [
    "display(Markdown(prepare))"
   ]
  },
  {
   "cell_type": "markdown",
   "id": "840e1f69",
   "metadata": {},
   "source": [
    "(class21practice)=\n",
    "## More Practice"
   ]
  },
  {
   "cell_type": "code",
   "execution_count": 3,
   "id": "e82fd0e5",
   "metadata": {
    "tags": [
     "remove-input"
    ]
   },
   "outputs": [
    {
     "data": {
      "text/markdown": [
       "1. In `addertypes.md` compare ripple adders and lookahead adders.\n",
       "    ```\n",
       "    1. Give a synopsis of each adder type\n",
       "    1. Compare them in terms of time (assume that each gate requires one unite of time)\n",
       "    1. Compare them in terms of space/cost by counting the total number of gates required.\n",
       "    ```\n",
       "1. (priority) While we saw many types of gates today, but we actually could get all of the operations needed using only NAND gates. Work out how to use NAND gates to implement a half adder. \n"
      ],
      "text/plain": [
       "<IPython.core.display.Markdown object>"
      ]
     },
     "metadata": {},
     "output_type": "display_data"
    }
   ],
   "source": [
    "display(Markdown(practice))"
   ]
  },
  {
   "cell_type": "markdown",
   "id": "14848c8d",
   "metadata": {},
   "source": [
    "## Questions After Class\n",
    "\n",
    "\n",
    "### How do we know to use the selector in a mux?\n",
    "```{toggle}\n",
    "This comes from the instruction itself.\n",
    "```\n",
    "\n",
    "\n",
    "### What other mediums besides water could these be implemented with?\n",
    "```{toggle}\n",
    "We will talk more about different ways to physically create gates in the next few classes\n",
    "```"
   ]
  }
 ],
 "metadata": {
  "jupytext": {
   "text_representation": {
    "extension": ".md",
    "format_name": "myst",
    "format_version": 0.13,
    "jupytext_version": "1.10.3"
   }
  },
  "kernelspec": {
   "display_name": "Python 3",
   "language": "python",
   "name": "python3"
  },
  "language_info": {
   "codemirror_mode": {
    "name": "ipython",
    "version": 3
   },
   "file_extension": ".py",
   "mimetype": "text/x-python",
   "name": "python",
   "nbconvert_exporter": "python",
   "pygments_lexer": "ipython3",
   "version": "3.8.12"
  },
  "source_map": [
   12,
   16,
   24,
   224,
   228,
   237,
   240
  ]
 },
 "nbformat": 4,
 "nbformat_minor": 5
}