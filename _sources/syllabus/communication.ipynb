{
 "cells": [
  {
   "cell_type": "markdown",
   "id": "e0acf98f",
   "metadata": {},
   "source": [
    "# Office Hours & Comms"
   ]
  },
  {
   "cell_type": "code",
   "execution_count": 1,
   "id": "6210b878",
   "metadata": {
    "tags": [
     "remove-input"
    ]
   },
   "outputs": [],
   "source": [
    "import pandas as pd\n",
    "from IPython.display import display, Markdown, HTML\n",
    "pd.set_option('display.max_colwidth', 0)\n",
    "# df = pd.read_csv('../_data/communication.csv')\n",
    "\n",
    "help_df = pd.read_csv('../_data/help_hours.csv')"
   ]
  },
  {
   "cell_type": "markdown",
   "id": "10149ed6",
   "metadata": {},
   "source": [
    "## Help Hours\n",
    "\n",
    "TBA"
   ]
  },
  {
   "cell_type": "code",
   "execution_count": 2,
   "id": "20cfd290",
   "metadata": {
    "tags": [
     "remove-input"
    ]
   },
   "outputs": [
    {
     "name": "stderr",
     "output_type": "stream",
     "text": [
      "/tmp/ipykernel_2280/2146052215.py:1: FutureWarning: this method is deprecated in favour of `Styler.hide(axis='index')`\n",
      "  help_df.style.hide_index()\n"
     ]
    },
    {
     "data": {
      "text/html": [
       "<style type=\"text/css\">\n",
       "</style>\n",
       "<table id=\"T_47342\">\n",
       "  <thead>\n",
       "    <tr>\n",
       "      <th id=\"T_47342_level0_col0\" class=\"col_heading level0 col0\" >Day</th>\n",
       "      <th id=\"T_47342_level0_col1\" class=\"col_heading level0 col1\" >Time</th>\n",
       "      <th id=\"T_47342_level0_col2\" class=\"col_heading level0 col2\" >Location</th>\n",
       "      <th id=\"T_47342_level0_col3\" class=\"col_heading level0 col3\" >Host</th>\n",
       "    </tr>\n",
       "  </thead>\n",
       "  <tbody>\n",
       "    <tr>\n",
       "      <td id=\"T_47342_row0_col0\" class=\"data row0 col0\" >Tuesday</td>\n",
       "      <td id=\"T_47342_row0_col1\" class=\"data row0 col1\" > 4-5pm</td>\n",
       "      <td id=\"T_47342_row0_col2\" class=\"data row0 col2\" > online</td>\n",
       "      <td id=\"T_47342_row0_col3\" class=\"data row0 col3\" > Dr. Brown</td>\n",
       "    </tr>\n",
       "    <tr>\n",
       "      <td id=\"T_47342_row1_col0\" class=\"data row1 col0\" >Wednesday</td>\n",
       "      <td id=\"T_47342_row1_col1\" class=\"data row1 col1\" > 1-2pm</td>\n",
       "      <td id=\"T_47342_row1_col2\" class=\"data row1 col2\" > online</td>\n",
       "      <td id=\"T_47342_row1_col3\" class=\"data row1 col3\" > Dr. Brown</td>\n",
       "    </tr>\n",
       "    <tr>\n",
       "      <td id=\"T_47342_row2_col0\" class=\"data row2 col0\" >Friday</td>\n",
       "      <td id=\"T_47342_row2_col1\" class=\"data row2 col1\" > 11am-1pm</td>\n",
       "      <td id=\"T_47342_row2_col2\" class=\"data row2 col2\" > online</td>\n",
       "      <td id=\"T_47342_row2_col3\" class=\"data row2 col3\" > Mark</td>\n",
       "    </tr>\n",
       "  </tbody>\n",
       "</table>\n"
      ],
      "text/plain": [
       "<pandas.io.formats.style.Styler at 0x7f85fdefa790>"
      ]
     },
     "execution_count": 2,
     "metadata": {},
     "output_type": "execute_result"
    }
   ],
   "source": [
    "help_df.style.hide_index()"
   ]
  },
  {
   "cell_type": "markdown",
   "id": "03cf2122",
   "metadata": {},
   "source": [
    "Online office hours locations are linked in the #help channel on slack\n",
    "<!--\n",
    "\n",
    "We have several different ways to communicate in this course. This section summarizes them -->\n",
    "\n",
    "<!--\n",
    "## To reach out, By usage\n",
    "\n",
    "```{code-cell}\n",
    ":tags: [\"remove-input\"]\n",
    "\n",
    "df = df[['usage','platform','area','note']]\n",
    "display(HTML(df.style.hide_index()._repr_html_()))\n",
    "```\n",
    "\n",
    "```{note}\n",
    "e-mail is last because it's not collaborative; other platforms allow us (Proessor + TA) to collaborate on who responds to things more easily.\n",
    "```\n",
    "\n",
    "## By Platform\n",
    "\n",
    "```{code-cell}\n",
    ":tags: [\"remove-input\"]\n",
    "\n",
    "for platform, data in df.groupby('platform'):\n",
    "    display(HTML('<h3> Use '+ platform + ' for </h3>'))\n",
    "    display(HTML(data.drop(columns='platform').style.hide_index()._repr_html_()))\n",
    "\n",
    "``` -->\n",
    "\n",
    "## Tips\n",
    "\n",
    "### For assignment help\n",
    "\n",
    "- **send in advance, leave time for a response** I check e-mail/github a small number of times per day, during work hours, almost exclusively. You might see me post to this site, post to BrightSpace, or comment on your assignments outside of my normal working hours, but I will not reliably see emails that arrive during those hours. This means that it is important to start assignments early.\n",
    "\n",
    "### Using issues\n",
    "\n",
    "- use issues for content directly related to assignments.  If you push your code to the repository and then open an issue, I can see your code and your question at the same time and download it to run it if I need to debug it\n",
    "- use issues for questions about this syllabus or class notes. At the top right there's a GitHub logo <i class=\"fab fa-github\"></i> that allows you to open a issue (for a question) or suggest an edit (eg if you think there's a typo or you find an additional helpful resource related to something)\n",
    "\n",
    "### For E-mail\n",
    "\n",
    "- use e-mail for general inquiries or notifications\n",
    "- Please include `[CSC392]`  in the subject line of your email along with the topic of your message. This is important, because your messages are important, but I also get a lot of e-mail. Consider these a cheat code to my inbox: I have setup a filter that will flag your e-mail if you include that in subject to ensure that I see it."
   ]
  }
 ],
 "metadata": {
  "jupytext": {
   "text_representation": {
    "extension": ".md",
    "format_name": "myst",
    "format_version": 0.13,
    "jupytext_version": "1.10.3"
   }
  },
  "kernelspec": {
   "display_name": "Python 3",
   "language": "python",
   "name": "python3"
  },
  "language_info": {
   "codemirror_mode": {
    "name": "ipython",
    "version": 3
   },
   "file_extension": ".py",
   "mimetype": "text/x-python",
   "name": "python",
   "nbconvert_exporter": "python",
   "pygments_lexer": "ipython3",
   "version": "3.8.12"
  },
  "source_map": [
   12,
   20,
   29,
   36,
   40
  ]
 },
 "nbformat": 4,
 "nbformat_minor": 5
}